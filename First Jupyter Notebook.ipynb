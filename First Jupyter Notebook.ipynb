{
 "cells": [
  {
   "cell_type": "markdown",
   "metadata": {},
   "source": [
    "# Data Science - Open Source Tools - Assignment"
   ]
  },
  {
   "cell_type": "markdown",
   "metadata": {},
   "source": [
    "**Abhishek Pradhan**  \n",
    "Chief Data Scientist"
   ]
  },
  {
   "cell_type": "markdown",
   "metadata": {},
   "source": [
    "*I am interested in data science because, it's the sexiest job in the world, right now.*"
   ]
  },
  {
   "cell_type": "markdown",
   "metadata": {},
   "source": [
    "### The below code is just a simple arithmatic operation of adding 1 + 1."
   ]
  },
  {
   "cell_type": "code",
   "execution_count": 1,
   "metadata": {},
   "outputs": [
    {
     "data": {
      "text/plain": [
       "2"
      ]
     },
     "execution_count": 1,
     "metadata": {},
     "output_type": "execute_result"
    }
   ],
   "source": [
    "1 + 1"
   ]
  },
  {
   "cell_type": "markdown",
   "metadata": {},
   "source": [
    "---\n",
    "* Bullet item 1\n",
    "* Bullet item 2   \n",
    "****\n",
    "1. Number item 1  \n",
    "2. Number item 2\n",
    "----\n",
    "Name | Age | Gender\n",
    "--- | --- | ---\n",
    "Joe | 23 | Male\n",
    "Sam | 32 | Female\n",
    "\n",
    "----\n",
    "[Google link](https://www.google.com)   \n",
    "\n",
    "---\n",
    "Logo\n",
    "![alt text](https://camo.githubusercontent.com/a48a6f025d86445bbe5710ce07f769e37e97d8e6/68747470733a2f2f63646e2e737667706f726e2e636f6d2f6c6f676f732f676f6f676c652d7061792e737667 \"Logo Title Text 1\")   \n",
    "\n",
    "---\n",
    "```python   \n",
    "print (highlight python print syntax)\n",
    "```\n",
    "\n",
    "---\n",
    "> This is an example of\n",
    "> the block quotes.\n",
    "\n",
    "---\n",
    "\n",
    "~~Strikethrough Example~~   \n",
    "\n",
    "----"
   ]
  },
  {
   "cell_type": "code",
   "execution_count": null,
   "metadata": {},
   "outputs": [],
   "source": []
  }
 ],
 "metadata": {
  "kernelspec": {
   "display_name": "Python 3",
   "language": "python",
   "name": "python3"
  },
  "language_info": {
   "codemirror_mode": {
    "name": "ipython",
    "version": 3
   },
   "file_extension": ".py",
   "mimetype": "text/x-python",
   "name": "python",
   "nbconvert_exporter": "python",
   "pygments_lexer": "ipython3",
   "version": "3.6.5"
  }
 },
 "nbformat": 4,
 "nbformat_minor": 2
}
